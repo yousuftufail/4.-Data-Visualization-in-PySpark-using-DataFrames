{
 "cells": [
  {
   "cell_type": "markdown",
   "id": "5caec969",
   "metadata": {},
   "source": [
    "# Some info:\n",
    "\n",
    "I am going to present two examples. These examples are taken from DataCamp (https://www.datacamp.com/). In both the examples  dataframes are converted into pandas, using spark, and then some of the attributes are plotted using matplotlib library."
   ]
  },
  {
   "cell_type": "markdown",
   "id": "c5e4b25d",
   "metadata": {},
   "source": [
    "# Importing some important libraries for execution"
   ]
  },
  {
   "cell_type": "code",
   "execution_count": 1,
   "id": "f3972c71",
   "metadata": {},
   "outputs": [],
   "source": [
    "import findspark\n",
    "findspark.init(\"path_to-hadoop3.2\")\n",
    "\n",
    "from pyspark import SparkConf\n",
    "from pyspark.context import SparkContext\n",
    "\n",
    "sc = SparkContext.getOrCreate(SparkConf())\n",
    "\n",
    "from pyspark.sql import SparkSession\n",
    "spark=SparkSession.builder.getOrCreate()\n"
   ]
  },
  {
   "cell_type": "markdown",
   "id": "fb2d733c",
   "metadata": {},
   "source": [
    "# Constructing dataframe using spark\n",
    "Example 1:"
   ]
  },
  {
   "cell_type": "code",
   "execution_count": 5,
   "id": "1e90af82",
   "metadata": {},
   "outputs": [],
   "source": [
    "sample_list=[('Mona', 20), ('Jennifer', 34), ('John', 20), ('Jim', 26)]\n",
    "\n",
    "# Create an RDD from the list\n",
    "rdd = sc.parallelize(sample_list)\n",
    "\n",
    "# Create a PySpark DataFrame\n",
    "names_df = spark.createDataFrame(rdd, schema=['Name', 'Age'])    # Required dataframe\n"
   ]
  },
  {
   "cell_type": "code",
   "execution_count": 6,
   "id": "80087ab3",
   "metadata": {},
   "outputs": [],
   "source": [
    "# Convert to Pandas DataFrame  \n",
    "df_pandas = names_df.toPandas()"
   ]
  },
  {
   "cell_type": "code",
   "execution_count": 7,
   "id": "e6b17353",
   "metadata": {},
   "outputs": [
    {
     "data": {
      "image/png": "[encoded data removed]",
      "text/plain": [
       "<Figure size 432x288 with 1 Axes>"
      ]
     },
     "metadata": {
      "needs_background": "light"
     },
     "output_type": "display_data"
    }
   ],
   "source": [
    "import matplotlib.pyplot as plt\n",
    "# Create a horizontal bar plot\n",
    "df_pandas.plot(kind='barh', x='Name', y='Age', colormap='winter_r')\n",
    "plt.show()"
   ]
  },
  {
   "cell_type": "markdown",
   "id": "7e8c0071",
   "metadata": {},
   "source": [
    "# Loading Fifa2018_dataset.csv from local folder\n",
    "Example 2:"
   ]
  },
  {
   "cell_type": "code",
   "execution_count": 8,
   "id": "084e2218",
   "metadata": {},
   "outputs": [],
   "source": [
    "# Load the Dataframe\n",
    "fifa_df = spark.read.csv(\"Fifa2018_dataset.csv\", header=True, inferSchema=True)"
   ]
  },
  {
   "cell_type": "markdown",
   "id": "7c433766",
   "metadata": {},
   "source": [
    "# Collecting age column from the above frame:\n",
    "Nationality must be Germany."
   ]
  },
  {
   "cell_type": "code",
   "execution_count": 11,
   "id": "21e0aee8",
   "metadata": {},
   "outputs": [],
   "source": [
    "# Create a temporary view of fifa_df\n",
    "fifa_df.createOrReplaceTempView('fifa_df_table')\n",
    "\n",
    "# Construct the \"query\"\n",
    "query = '''SELECT Age FROM fifa_df_table WHERE Nationality == \"Germany\"'''\n",
    "\n",
    "# Apply the SQL \"query\"\n",
    "fifa_df_germany_age = spark.sql(query)"
   ]
  },
  {
   "cell_type": "markdown",
   "id": "9d11eb70",
   "metadata": {},
   "source": [
    "# Conversion into pandas"
   ]
  },
  {
   "cell_type": "code",
   "execution_count": 12,
   "id": "e4ea96db",
   "metadata": {},
   "outputs": [],
   "source": [
    "# Convert fifa_df to fifa_df_germany_age_pandas DataFrame\n",
    "fifa_df_germany_age_pandas = fifa_df_germany_age.toPandas()"
   ]
  },
  {
   "cell_type": "code",
   "execution_count": 14,
   "id": "55f58e13",
   "metadata": {},
   "outputs": [
    {
     "data": {
      "image/png": "[encoded data removed]",
      "text/plain": [
       "<Figure size 432x288 with 1 Axes>"
      ]
     },
     "metadata": {
      "needs_background": "light"
     },
     "output_type": "display_data"
    }
   ],
   "source": [
    "# Plot the 'Age' density of Germany Players\n",
    "fifa_df_germany_age_pandas.plot(kind='density')\n",
    "plt.show()\n",
    "\n",
    "# Matplotlib already been imported in example 1 so therefore there is no need to import again."
   ]
  },
  {
   "cell_type": "markdown",
   "id": "07302d11",
   "metadata": {},
   "source": [
    "# Some statistics:"
   ]
  },
  {
   "cell_type": "code",
   "execution_count": 15,
   "id": "8f59d1c6",
   "metadata": {},
   "outputs": [
    {
     "name": "stdout",
     "output_type": "stream",
     "text": [
      "+-------+-----------------+\n",
      "|summary|              Age|\n",
      "+-------+-----------------+\n",
      "|  count|             1140|\n",
      "|   mean|24.20263157894737|\n",
      "| stddev|4.197096712293752|\n",
      "|    min|               16|\n",
      "|    max|               36|\n",
      "+-------+-----------------+\n",
      "\n"
     ]
    }
   ],
   "source": [
    "# Generate basic statistics\n",
    "fifa_df_germany_age.describe().show()"
   ]
  },
  {
   "cell_type": "markdown",
   "id": "2710af22",
   "metadata": {},
   "source": [
    "# Conclusion:\n",
    "Average age for Germany players is 24.2 that can also be varified by the graph (above). "
   ]
  },
  {
   "cell_type": "code",
   "execution_count": null,
   "id": "0a01b583",
   "metadata": {},
   "outputs": [],
   "source": []
  }
 ],
 "metadata": {
  "kernelspec": {
   "display_name": "Python 3",
   "language": "python",
   "name": "python3"
  },
  "language_info": {
   "codemirror_mode": {
    "name": "ipython",
    "version": 3
   },
   "file_extension": ".py",
   "mimetype": "text/x-python",
   "name": "python",
   "nbconvert_exporter": "python",
   "pygments_lexer": "ipython3",
   "version": "3.8.8"
  }
 },
 "nbformat": 4,
 "nbformat_minor": 5
}
